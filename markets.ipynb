{
 "cells": [
  {
   "cell_type": "code",
   "execution_count": null,
   "metadata": {},
   "outputs": [],
   "source": [
    "import ccxt  # noqa: E402\n",
    "import pandas as pd\n",
    "import numpy as np\n",
    "import json\n",
    "\n",
    "from clients import BinanceClient"
   ]
  },
  {
   "cell_type": "code",
   "execution_count": null,
   "metadata": {},
   "outputs": [],
   "source": [
    "binance = BinanceClient()\n",
    "binance.fetch_balance()\n",
    "\n",
    "symbol = 'BTC/USDT'\n",
    "timeframe = '1h'\n",
    "df = binance.get_ohlc(symbol, timeframe)"
   ]
  },
  {
   "cell_type": "code",
   "execution_count": null,
   "metadata": {},
   "outputs": [],
   "source": [
    "import plotly.graph_objects as go\n",
    "\n",
    "fig = go.Figure(data=[go.Candlestick(x=df['datetime'],\n",
    "                open=df['open'],\n",
    "                high=df['high'],\n",
    "                low=df['low'],\n",
    "                close=df['close'])])\n",
    "\n",
    "fig.show()"
   ]
  },
  {
   "cell_type": "code",
   "execution_count": null,
   "metadata": {},
   "outputs": [],
   "source": [
    "# -*- coding: utf-8 -*-\n",
    "\n",
    "\n",
    "binance = ccxt.binance()\n",
    "symbol = 'BTC/USDT'\n",
    "timeframe = '1h'\n",
    "\n",
    "ohlcv = binance.fetch_ohlcv(symbol, timeframe)\n",
    "#[ timestamp, open, high, low, close, volume ]\n",
    "df=pd.DataFrame(ohlcv).rename({0:'timestamp', 1:'open', 2:'high', 3:'low', 4:'close', 5:'volume'},axis=1)\n",
    "df['datetime'] = pd.to_datetime(df['timestamp'], unit='ms').dt.strftime('%Y-%m-%d %H:%M:%S')\n",
    "df"
   ]
  },
  {
   "cell_type": "code",
   "execution_count": null,
   "metadata": {},
   "outputs": [],
   "source": [
    "from web3 import Web3\n",
    "import json\n",
    "import os\n",
    "\n",
    "from dotenv import load_dotenv\n",
    "load_dotenv()\n",
    "\n",
    "abi_path = './abi.json'\n",
    "wss_url = os.getenv('wss_url')\n",
    "\n",
    "router_address = \"0xE592427A0AEce92De3Edee1F18E0157C05861564\"  # Uniswap v3 SwapRouter\n",
    "\n",
    "with open(abi_path) as f:\n",
    "    abi = json.load(f)\n",
    "\n",
    "interface = Web3().eth.contract(abi=abi)"
   ]
  },
  {
   "cell_type": "code",
   "execution_count": null,
   "metadata": {},
   "outputs": [],
   "source": [
    "provider = Web3(Web3.WebsocketProvider(wss_url))\n",
    "\n",
    "def handle_transaction(tx_hash):\n",
    "    txn_data = provider.eth.get_transaction(tx_hash)\n",
    "    if txn_data:\n",
    "        gas = txn_data['gasPrice']\n",
    "        if txn_data['to'] == router_address and \"0x414bf389\" in txn_data['input']:\n",
    "            print(\"hash: \", tx_hash)\n",
    "            decoded = interface.decode_function_input(\n",
    "                \"exactInputSingle((address,address,uint24,address,uint256,uint256,uint256,uint160))\", txn_data['input'])\n",
    "            log_txn(decoded, gas)\n",
    "\n",
    "def log_txn(data, gas):\n",
    "    print(\"tokenIn: \", data['params']['tokenIn'])\n",
    "    print(\"tokenOut: \", data['params']['tokenOut'])\n",
    "    print(\"amount: \", data['params']['amountOutMinimum'])\n",
    "    print(\"gasPrice: \", gas)\n",
    "    print(\"-------------\")\n",
    "\n",
    "handle_transaction()\n",
    "# provider.eth.subscribe('pending_transactions', handle_transaction)"
   ]
  },
  {
   "cell_type": "code",
   "execution_count": null,
   "metadata": {},
   "outputs": [],
   "source": [
    "# Set up web3 provider\n",
    "w3 = Web3(Web3.WebsocketProvider(wss_url))\n",
    "w3.middleware_onion.inject(geth_poa_middleware, layer=0)\n",
    "router = \"0xE592427A0AEce92De3Edee1F18E0157C05861564\"\n",
    "# Contract instance\n",
    "contract = w3.eth.contract(address=router, abi=abi)\n",
    "\n",
    "def main():\n",
    "    # Event handler\n",
    "    def handle_event(event):\n",
    "        txn_data = w3.eth.getTransaction(event)\n",
    "        if txn_data:\n",
    "            gas = txn_data['gasPrice']\n",
    "            if txn_data.to == router and \"0x414bf389\" in txn_data['input']:\n",
    "                print(\"hash: \", txn_data['hash'])\n",
    "                decoded = contract.decode_function_input(\"exactInputSingle((address,address,uint24,address,uint256,uint256,uint256,uint160))\",  txn_data['input'])\n",
    "                log_txn(decoded, gas)\n",
    "\n",
    "    # Subscribe to pending transactions\n",
    "    w3.eth.subscribe('pending_transactions', handle_event)\n",
    "\n",
    "def log_txn(data, gas):\n",
    "    print(\"tokenIn: \", data['params']['tokenIn'])\n",
    "    print(\"tokenOut: \", data['params']['tokenOut'])\n",
    "    print(\"amount: \", data['params']['amountOutMinimum'])\n",
    "    print(\"gasPrice: \", gas)\n",
    "    print(\"-------------\")\n",
    "\n",
    "if __name__ == \"__main__\":\n",
    "    main()"
   ]
  }
 ],
 "metadata": {
  "kernelspec": {
   "display_name": "base",
   "language": "python",
   "name": "python3"
  },
  "language_info": {
   "codemirror_mode": {
    "name": "ipython",
    "version": 3
   },
   "file_extension": ".py",
   "mimetype": "text/x-python",
   "name": "python",
   "nbconvert_exporter": "python",
   "pygments_lexer": "ipython3",
   "version": "3.12.2"
  },
  "orig_nbformat": 4
 },
 "nbformat": 4,
 "nbformat_minor": 2
}
