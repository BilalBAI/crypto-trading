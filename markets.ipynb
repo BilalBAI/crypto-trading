{
 "cells": [
  {
   "cell_type": "code",
   "execution_count": 76,
   "metadata": {},
   "outputs": [],
   "source": [
    "import ccxt  # noqa: E402\n",
    "import pandas as pd\n",
    "import numpy as np\n",
    "import json\n",
    "\n",
    "import os\n",
    "from dotenv import load_dotenv\n",
    "load_dotenv()\n",
    "\n",
    "apiKey = os.getenv('apiKey')\n",
    "secret = os.getenv('secret')\n"
   ]
  },
  {
   "cell_type": "code",
   "execution_count": 77,
   "metadata": {},
   "outputs": [],
   "source": [
    "# -*- coding: utf-8 -*-\n",
    "exchange = ccxt.binance({\n",
    "    'apiKey': apiKey,\n",
    "    'secret': secret,\n",
    "    'options': {\n",
    "        'defaultType': 'margin', # spot, future, margin\n",
    "    },\n",
    "})\n",
    "# markets = exchange.load_markets()"
   ]
  },
  {
   "cell_type": "code",
   "execution_count": 58,
   "metadata": {},
   "outputs": [],
   "source": [
    "# remove 0 balances\n",
    "balance = exchange.fetch_balance()\n",
    "balance['info']['userAssets'] = [i for i in balance['info']['userAssets'] if i['netAsset']!= '0']\n",
    "\n",
    "for i in balance.keys():\n",
    "    if  i not in ['info','timestamp', 'datetime']:\n",
    "        balance[i]={i:balance[i][j] for j in balance[i].keys() if balance[i][j]!=0.0}\n",
    "balance={i:balance[i] for i in balance.keys() if balance[i]!={}}\n",
    "balance\n",
    "\n",
    "with open('balances.json', 'w') as f:\n",
    "    json.dump(balance, f)"
   ]
  }
 ],
 "metadata": {
  "kernelspec": {
   "display_name": "base",
   "language": "python",
   "name": "python3"
  },
  "language_info": {
   "codemirror_mode": {
    "name": "ipython",
    "version": 3
   },
   "file_extension": ".py",
   "mimetype": "text/x-python",
   "name": "python",
   "nbconvert_exporter": "python",
   "pygments_lexer": "ipython3",
   "version": "3.12.2"
  },
  "orig_nbformat": 4
 },
 "nbformat": 4,
 "nbformat_minor": 2
}
