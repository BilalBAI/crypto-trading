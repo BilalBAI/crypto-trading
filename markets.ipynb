{
 "cells": [
  {
   "cell_type": "markdown",
   "metadata": {},
   "source": [
    "# Binance OHLCV"
   ]
  },
  {
   "cell_type": "code",
   "execution_count": null,
   "metadata": {},
   "outputs": [],
   "source": [
    "from clients import BinanceClient\n",
    "import ccxt\n",
    "\n",
    "binance = BinanceClient()\n",
    "\n",
    "symbol = 'BTC/USDT'\n",
    "timeframe = '1h'\n",
    "df = binance.get_ohlcv(symbol, timeframe)"
   ]
  },
  {
   "cell_type": "code",
   "execution_count": null,
   "metadata": {},
   "outputs": [],
   "source": [
    "import plotly.graph_objects as go\n",
    "\n",
    "fig = go.Figure(data=[go.Candlestick(x=df['datetime'],\n",
    "                open=df['open'],\n",
    "                high=df['high'],\n",
    "                low=df['low'],\n",
    "                close=df['close'])])\n",
    "\n",
    "fig.show()"
   ]
  },
  {
   "cell_type": "markdown",
   "metadata": {},
   "source": [
    "# Binance Balance"
   ]
  },
  {
   "cell_type": "code",
   "execution_count": null,
   "metadata": {},
   "outputs": [],
   "source": [
    "from clients import BinanceClient\n",
    "\n",
    "binance = BinanceClient()\n",
    "binance.con_trading_login()\n",
    "binance.fetch_balance()"
   ]
  },
  {
   "cell_type": "markdown",
   "metadata": {},
   "source": [
    "# Ethereum Mempool"
   ]
  },
  {
   "cell_type": "code",
   "execution_count": 1,
   "metadata": {},
   "outputs": [
    {
     "name": "stdout",
     "output_type": "stream",
     "text": [
      "True\n"
     ]
    }
   ],
   "source": [
    "from clients import EthClient\n",
    "ec = EthClient()"
   ]
  },
  {
   "cell_type": "code",
   "execution_count": 2,
   "metadata": {},
   "outputs": [],
   "source": [
    "import json\n",
    "import time\n",
    "\n",
    "while True:\n",
    "    func_obj, results = ec.get_pending_tx_uniswap()\n",
    "    if results != []:\n",
    "        break\n",
    "    time.sleep(3)\n",
    "        # output json\n",
    "with open('./data/uniswap_pending.json', 'w') as f:\n",
    "    json.dump(results, f)"
   ]
  },
  {
   "cell_type": "code",
   "execution_count": 3,
   "metadata": {},
   "outputs": [
    {
     "data": {
      "text/plain": [
       "[{'params': {'tokenIn': '0xd8F1460044925d2D5c723C7054cd9247027415B7',\n",
       "   'tokenOut': '0xC02aaA39b223FE8D0A0e5C4F27eAD9083C756Cc2',\n",
       "   'fee': 10000,\n",
       "   'recipient': '0xf3F32E156E95c6249AA646c86855306F913bFF34',\n",
       "   'deadline': 1712257062,\n",
       "   'amountIn': 24999999999999997902848,\n",
       "   'amountOutMinimum': 97948493064137477,\n",
       "   'sqrtPriceLimitX96': 0},\n",
       "  'timestamp': '2024-04-04T14:48:00.737256'}]"
      ]
     },
     "execution_count": 3,
     "metadata": {},
     "output_type": "execute_result"
    }
   ],
   "source": [
    "results"
   ]
  },
  {
   "cell_type": "code",
   "execution_count": 15,
   "metadata": {},
   "outputs": [
    {
     "name": "stdout",
     "output_type": "stream",
     "text": [
      "Price of 1 Wrapped Ether (WETH) in Tether USD (USDT): 3432.131383941539\n",
      "Price of 1 Tether USD (USDT) in Wrapped Ether (WETH): 0.0002913641373634062\n"
     ]
    }
   ],
   "source": []
  }
 ],
 "metadata": {
  "kernelspec": {
   "display_name": "base",
   "language": "python",
   "name": "python3"
  },
  "language_info": {
   "codemirror_mode": {
    "name": "ipython",
    "version": 3
   },
   "file_extension": ".py",
   "mimetype": "text/x-python",
   "name": "python",
   "nbconvert_exporter": "python",
   "pygments_lexer": "ipython3",
   "version": "3.12.2"
  },
  "orig_nbformat": 4
 },
 "nbformat": 4,
 "nbformat_minor": 2
}
