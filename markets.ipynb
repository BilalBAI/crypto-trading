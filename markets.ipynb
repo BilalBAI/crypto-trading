{
 "cells": [
  {
   "cell_type": "markdown",
   "metadata": {},
   "source": [
    "# Binance Balance"
   ]
  },
  {
   "cell_type": "code",
   "execution_count": null,
   "metadata": {},
   "outputs": [],
   "source": [
    "from clients import BinanceClient\n",
    "\n",
    "binance = BinanceClient()\n",
    "binance.fetch_balance()\n",
    "\n",
    "symbol = 'BTC/USDT'\n",
    "timeframe = '1h'\n",
    "df = binance.get_ohlc(symbol, timeframe)"
   ]
  },
  {
   "cell_type": "code",
   "execution_count": null,
   "metadata": {},
   "outputs": [],
   "source": [
    "import plotly.graph_objects as go\n",
    "\n",
    "fig = go.Figure(data=[go.Candlestick(x=df['datetime'],\n",
    "                open=df['open'],\n",
    "                high=df['high'],\n",
    "                low=df['low'],\n",
    "                close=df['close'])])\n",
    "\n",
    "fig.show()"
   ]
  },
  {
   "cell_type": "markdown",
   "metadata": {},
   "source": [
    "# Ethereum Mempool"
   ]
  },
  {
   "cell_type": "code",
   "execution_count": 1,
   "metadata": {},
   "outputs": [
    {
     "name": "stdout",
     "output_type": "stream",
     "text": [
      "True\n"
     ]
    }
   ],
   "source": [
    "from clients import EthClient\n",
    "ec = EthClient()"
   ]
  },
  {
   "cell_type": "code",
   "execution_count": 7,
   "metadata": {},
   "outputs": [],
   "source": [
    "import json\n",
    "import time\n",
    "\n",
    "while True:\n",
    "    func_obj, results = ec.get_pending_tx_uniswap()\n",
    "    if results != []:\n",
    "        break\n",
    "    time.sleep(10)\n",
    "        # output json\n",
    "with open('./data/uniswap_pending.json', 'w') as f:\n",
    "    json.dump(results, f)"
   ]
  },
  {
   "cell_type": "code",
   "execution_count": 3,
   "metadata": {},
   "outputs": [
    {
     "data": {
      "text/plain": [
       "[{'params': {'tokenIn': '0xC02aaA39b223FE8D0A0e5C4F27eAD9083C756Cc2',\n",
       "   'tokenOut': '0x77E06c9eCCf2E797fd462A92B6D7642EF85b0A44',\n",
       "   'fee': 10000,\n",
       "   'recipient': '0x90C9BceCd185b9a70ea1CCaea0cFe9e1Fb007335',\n",
       "   'deadline': 1712246687,\n",
       "   'amountIn': 48809677473410079,\n",
       "   'amountOutMinimum': 263641344,\n",
       "   'sqrtPriceLimitX96': 0},\n",
       "  'timestamp': '2024-04-04T11:49:58.397172'}]"
      ]
     },
     "execution_count": 3,
     "metadata": {},
     "output_type": "execute_result"
    }
   ],
   "source": [
    "results"
   ]
  }
 ],
 "metadata": {
  "kernelspec": {
   "display_name": "base",
   "language": "python",
   "name": "python3"
  },
  "language_info": {
   "codemirror_mode": {
    "name": "ipython",
    "version": 3
   },
   "file_extension": ".py",
   "mimetype": "text/x-python",
   "name": "python",
   "nbconvert_exporter": "python",
   "pygments_lexer": "ipython3",
   "version": "3.12.2"
  },
  "orig_nbformat": 4
 },
 "nbformat": 4,
 "nbformat_minor": 2
}
