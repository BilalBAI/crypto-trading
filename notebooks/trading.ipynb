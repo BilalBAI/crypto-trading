{
 "cells": [
  {
   "cell_type": "markdown",
   "metadata": {},
   "source": [
    "# Binance Balance"
   ]
  },
  {
   "cell_type": "code",
   "execution_count": 2,
   "metadata": {},
   "outputs": [
    {
     "name": "stderr",
     "output_type": "stream",
     "text": [
      "Python-dotenv could not parse statement starting at line 3\n"
     ]
    }
   ],
   "source": [
    "from crypto_trading.clients import BinanceClient\n",
    "\n",
    "binance = BinanceClient()\n",
    "binance.con_trading_login()\n",
    "binance.fetch_balance()"
   ]
  },
  {
   "cell_type": "code",
   "execution_count": 3,
   "metadata": {},
   "outputs": [
    {
     "name": "stdout",
     "output_type": "stream",
     "text": [
      "  symbol       free locked   borrowed    interest     delta     price  \\\n",
      "0    BTC          0      0    0.00598  0.00000189 -0.005982  68038.36   \n",
      "1    SOL          0      0  2.0000124  0.00030052 -2.000313    165.06   \n",
      "2    ETH  0.2629368      0          0           0  0.262937   3451.42   \n",
      "\n",
      "           mv  \n",
      "0 -406.997985  \n",
      "1 -330.171651  \n",
      "2  907.505330  \n",
      "GMV: 1,644.67\n",
      "NMV: 170.34\n",
      "\n",
      "Total Balance: 1,063.34\n",
      "Total Liability: -737.17\n",
      "Net Liq: 326.17\n",
      "PNL: 18.17\n",
      "ML: 1.44\n"
     ]
    }
   ],
   "source": [
    "# positions = [\n",
    "#     {'symbol':'ETH', 'delta': 0.2629368},\n",
    "#     {'symbol':'BTC', 'delta': -0.00598166},\n",
    "#     {'symbol':'SOL', 'delta': -2.0000124},\n",
    "#     {'symbol':'USDT', 'delta': 199.4882},\n",
    "#     {'symbol':'USDT', 'delta': -43.5959}\n",
    "\n",
    "# ]\n",
    "invest = 308\n",
    "binance.rms(binance.positions,invest)"
   ]
  }
 ],
 "metadata": {
  "kernelspec": {
   "display_name": "base",
   "language": "python",
   "name": "python3"
  },
  "language_info": {
   "codemirror_mode": {
    "name": "ipython",
    "version": 3
   },
   "file_extension": ".py",
   "mimetype": "text/x-python",
   "name": "python",
   "nbconvert_exporter": "python",
   "pygments_lexer": "ipython3",
   "version": "3.12.2"
  },
  "orig_nbformat": 4
 },
 "nbformat": 4,
 "nbformat_minor": 2
}
