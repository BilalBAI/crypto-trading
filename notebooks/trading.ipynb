{
 "cells": [
  {
   "cell_type": "markdown",
   "metadata": {},
   "source": [
    "# Binance Balance"
   ]
  },
  {
   "cell_type": "code",
   "execution_count": 2,
   "metadata": {},
   "outputs": [],
   "source": [
    "from crypto_trading.clients import BinanceClient\n",
    "\n",
    "binance = BinanceClient()\n",
    "binance.con_trading_login()\n",
    "binance.fetch_balance()"
   ]
  },
  {
   "cell_type": "code",
   "execution_count": 3,
   "metadata": {},
   "outputs": [
    {
     "data": {
      "text/plain": [
       "{'info': {'tradeEnabled': True,\n",
       "  'transferEnabled': True,\n",
       "  'borrowEnabled': True,\n",
       "  'marginLevel': '1.30448152',\n",
       "  'totalAssetOfBtc': '0.0085947',\n",
       "  'totalLiabilityOfBtc': '0.00658859',\n",
       "  'totalNetAssetOfBtc': '0.00200611',\n",
       "  'userAssets': [{'asset': 'BTC',\n",
       "    'free': '0',\n",
       "    'locked': '0',\n",
       "    'borrowed': '0.00598',\n",
       "    'interest': '0.00000151',\n",
       "    'netAsset': '-0.00598151'},\n",
       "   {'asset': 'ETH',\n",
       "    'free': '0.1662336',\n",
       "    'locked': '0',\n",
       "    'borrowed': '0',\n",
       "    'interest': '0',\n",
       "    'netAsset': '0.1662336'},\n",
       "   {'asset': 'USDT',\n",
       "    'free': '0.28820787',\n",
       "    'locked': '0',\n",
       "    'borrowed': '43.59593705',\n",
       "    'interest': '0.00467922',\n",
       "    'netAsset': '-43.3124084'}],\n",
       "  'collateralMarginLevel': '1.3047412',\n",
       "  'totalCollateralValueInUSDT': '617.391723',\n",
       "  'accountType': 'MARGIN_1'},\n",
       " 'BTC': {'BTC': 0.00598151},\n",
       " 'ETH': {'ETH': 0.1662336},\n",
       " 'USDT': {'USDT': 43.60061627},\n",
       " 'timestamp': None,\n",
       " 'datetime': None,\n",
       " 'free': {'free': 0.28820787},\n",
       " 'total': {'total': 0.28820787},\n",
       " 'debt': {'debt': 43.60061627}}"
      ]
     },
     "execution_count": 3,
     "metadata": {},
     "output_type": "execute_result"
    }
   ],
   "source": [
    "binance.balance"
   ]
  }
 ],
 "metadata": {
  "kernelspec": {
   "display_name": "base",
   "language": "python",
   "name": "python3"
  },
  "language_info": {
   "codemirror_mode": {
    "name": "ipython",
    "version": 3
   },
   "file_extension": ".py",
   "mimetype": "text/x-python",
   "name": "python",
   "nbconvert_exporter": "python",
   "pygments_lexer": "ipython3",
   "version": "3.12.2"
  },
  "orig_nbformat": 4
 },
 "nbformat": 4,
 "nbformat_minor": 2
}
