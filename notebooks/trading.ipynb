{
 "cells": [
  {
   "cell_type": "markdown",
   "metadata": {},
   "source": [
    "# Binance Balance"
   ]
  },
  {
   "cell_type": "code",
   "execution_count": 13,
   "metadata": {},
   "outputs": [],
   "source": [
    "import pandas as pd\n",
    "pd.set_option('display.max_columns', 50)"
   ]
  },
  {
   "cell_type": "code",
   "execution_count": 2,
   "metadata": {},
   "outputs": [
    {
     "name": "stderr",
     "output_type": "stream",
     "text": [
      "Python-dotenv could not parse statement starting at line 3\n"
     ]
    }
   ],
   "source": [
    "from crypto_trading.clients import BinanceClient\n",
    "\n",
    "binance = BinanceClient()\n",
    "binance.con_trading_login()\n",
    "binance.fetch_balance()\n",
    "\n",
    "invest = 308"
   ]
  },
  {
   "cell_type": "code",
   "execution_count": 21,
   "metadata": {},
   "outputs": [
    {
     "name": "stdout",
     "output_type": "stream",
     "text": [
      "GMV: 1,792.39\n",
      "NMV: 18.68\n",
      "\n",
      "Total Balance: 1,207.16\n",
      "Total Liability: -886.85\n",
      "Net Liq: 320.30\n",
      "PNL: 12.30\n",
      "ML: 1.36\n"
     ]
    }
   ],
   "source": [
    "binance.rms(binance.positions,invest)"
   ]
  },
  {
   "cell_type": "code",
   "execution_count": null,
   "metadata": {},
   "outputs": [],
   "source": [
    "# binance.interest"
   ]
  },
  {
   "cell_type": "code",
   "execution_count": null,
   "metadata": {},
   "outputs": [
    {
     "data": {
      "text/html": [
       "<div>\n",
       "<style scoped>\n",
       "    .dataframe tbody tr th:only-of-type {\n",
       "        vertical-align: middle;\n",
       "    }\n",
       "\n",
       "    .dataframe tbody tr th {\n",
       "        vertical-align: top;\n",
       "    }\n",
       "\n",
       "    .dataframe thead th {\n",
       "        text-align: right;\n",
       "    }\n",
       "</style>\n",
       "<table border=\"1\" class=\"dataframe\">\n",
       "  <thead>\n",
       "    <tr style=\"text-align: right;\">\n",
       "      <th></th>\n",
       "      <th>symbol</th>\n",
       "      <th>free</th>\n",
       "      <th>locked</th>\n",
       "      <th>borrowed</th>\n",
       "      <th>interest</th>\n",
       "      <th>delta</th>\n",
       "      <th>last</th>\n",
       "      <th>previousClose</th>\n",
       "      <th>percentage</th>\n",
       "      <th>mv</th>\n",
       "      <th>dailyPNL</th>\n",
       "    </tr>\n",
       "  </thead>\n",
       "  <tbody>\n",
       "    <tr>\n",
       "      <th>0</th>\n",
       "      <td>BTC</td>\n",
       "      <td>0.000000</td>\n",
       "      <td>0.0</td>\n",
       "      <td>0.005980</td>\n",
       "      <td>0.000002</td>\n",
       "      <td>-0.005982</td>\n",
       "      <td>69419.9900</td>\n",
       "      <td>69707.9400</td>\n",
       "      <td>-0.413</td>\n",
       "      <td>-415.296760</td>\n",
       "      <td>1.722626</td>\n",
       "    </tr>\n",
       "    <tr>\n",
       "      <th>1</th>\n",
       "      <td>ARB</td>\n",
       "      <td>0.000000</td>\n",
       "      <td>0.0</td>\n",
       "      <td>100.000000</td>\n",
       "      <td>0.014093</td>\n",
       "      <td>-100.014093</td>\n",
       "      <td>1.3759</td>\n",
       "      <td>1.4297</td>\n",
       "      <td>-3.763</td>\n",
       "      <td>-137.609391</td>\n",
       "      <td>5.380758</td>\n",
       "    </tr>\n",
       "    <tr>\n",
       "      <th>2</th>\n",
       "      <td>SOL</td>\n",
       "      <td>0.000000</td>\n",
       "      <td>0.0</td>\n",
       "      <td>2.000012</td>\n",
       "      <td>0.000909</td>\n",
       "      <td>-2.000921</td>\n",
       "      <td>167.7200</td>\n",
       "      <td>174.5800</td>\n",
       "      <td>-3.929</td>\n",
       "      <td>-335.594484</td>\n",
       "      <td>13.726319</td>\n",
       "    </tr>\n",
       "    <tr>\n",
       "      <th>3</th>\n",
       "      <td>ETH</td>\n",
       "      <td>0.262937</td>\n",
       "      <td>0.0</td>\n",
       "      <td>0.000000</td>\n",
       "      <td>0.000000</td>\n",
       "      <td>0.262937</td>\n",
       "      <td>3450.3900</td>\n",
       "      <td>3504.0700</td>\n",
       "      <td>-1.532</td>\n",
       "      <td>907.234505</td>\n",
       "      <td>-14.114447</td>\n",
       "    </tr>\n",
       "  </tbody>\n",
       "</table>\n",
       "</div>"
      ],
      "text/plain": [
       "  symbol      free  locked    borrowed  interest       delta        last  \\\n",
       "0    BTC  0.000000     0.0    0.005980  0.000002   -0.005982  69419.9900   \n",
       "1    ARB  0.000000     0.0  100.000000  0.014093 -100.014093      1.3759   \n",
       "2    SOL  0.000000     0.0    2.000012  0.000909   -2.000921    167.7200   \n",
       "3    ETH  0.262937     0.0    0.000000  0.000000    0.262937   3450.3900   \n",
       "\n",
       "   previousClose  percentage          mv   dailyPNL  \n",
       "0     69707.9400      -0.413 -415.296760   1.722626  \n",
       "1         1.4297      -3.763 -137.609391   5.380758  \n",
       "2       174.5800      -3.929 -335.594484  13.726319  \n",
       "3      3504.0700      -1.532  907.234505 -14.114447  "
      ]
     },
     "execution_count": 20,
     "metadata": {},
     "output_type": "execute_result"
    }
   ],
   "source": [
    "binance.df_risk_exp"
   ]
  },
  {
   "cell_type": "code",
   "execution_count": null,
   "metadata": {},
   "outputs": [
    {
     "data": {
      "text/html": [
       "<div>\n",
       "<style scoped>\n",
       "    .dataframe tbody tr th:only-of-type {\n",
       "        vertical-align: middle;\n",
       "    }\n",
       "\n",
       "    .dataframe tbody tr th {\n",
       "        vertical-align: top;\n",
       "    }\n",
       "\n",
       "    .dataframe thead th {\n",
       "        text-align: right;\n",
       "    }\n",
       "</style>\n",
       "<table border=\"1\" class=\"dataframe\">\n",
       "  <thead>\n",
       "    <tr style=\"text-align: right;\">\n",
       "      <th></th>\n",
       "      <th>symbol</th>\n",
       "      <th>free</th>\n",
       "      <th>locked</th>\n",
       "      <th>borrowed</th>\n",
       "      <th>interest</th>\n",
       "      <th>delta</th>\n",
       "    </tr>\n",
       "  </thead>\n",
       "  <tbody>\n",
       "    <tr>\n",
       "      <th>4</th>\n",
       "      <td>USDT</td>\n",
       "      <td>243.282208</td>\n",
       "      <td>102.06</td>\n",
       "      <td>43.595937</td>\n",
       "      <td>0.121854</td>\n",
       "      <td>301.624417</td>\n",
       "    </tr>\n",
       "  </tbody>\n",
       "</table>\n",
       "</div>"
      ],
      "text/plain": [
       "  symbol        free  locked   borrowed  interest       delta\n",
       "4   USDT  243.282208  102.06  43.595937  0.121854  301.624417"
      ]
     },
     "execution_count": 19,
     "metadata": {},
     "output_type": "execute_result"
    }
   ],
   "source": [
    "binance.df_cash"
   ]
  },
  {
   "cell_type": "code",
   "execution_count": null,
   "metadata": {},
   "outputs": [
    {
     "data": {
      "text/plain": [
       "{'symbol': 'ARB/USDT',\n",
       " 'timestamp': 1712934406917,\n",
       " 'datetime': '2024-04-12T15:06:46.917Z',\n",
       " 'high': 1.4416,\n",
       " 'low': 1.3662,\n",
       " 'bid': 1.3759,\n",
       " 'bidVolume': 5.1,\n",
       " 'ask': 1.376,\n",
       " 'askVolume': 3975.5,\n",
       " 'vwap': 1.40927189,\n",
       " 'open': 1.4297,\n",
       " 'close': 1.3759,\n",
       " 'last': 1.3759,\n",
       " 'previousClose': 1.4297,\n",
       " 'change': -0.0538,\n",
       " 'percentage': -3.763,\n",
       " 'average': 1.4028,\n",
       " 'baseVolume': 38654877.6,\n",
       " 'quoteVolume': 54475232.35387,\n",
       " 'info': {'symbol': 'ARBUSDT',\n",
       "  'priceChange': '-0.05380000',\n",
       "  'priceChangePercent': '-3.763',\n",
       "  'weightedAvgPrice': '1.40927189',\n",
       "  'prevClosePrice': '1.42970000',\n",
       "  'lastPrice': '1.37590000',\n",
       "  'lastQty': '250.90000000',\n",
       "  'bidPrice': '1.37590000',\n",
       "  'bidQty': '5.10000000',\n",
       "  'askPrice': '1.37600000',\n",
       "  'askQty': '3975.50000000',\n",
       "  'openPrice': '1.42970000',\n",
       "  'highPrice': '1.44160000',\n",
       "  'lowPrice': '1.36620000',\n",
       "  'volume': '38654877.60000000',\n",
       "  'quoteVolume': '54475232.35387000',\n",
       "  'openTime': '1712848006917',\n",
       "  'closeTime': '1712934406917',\n",
       "  'firstId': '84907847',\n",
       "  'lastId': '85025409',\n",
       "  'count': '117563'}}"
      ]
     },
     "execution_count": 7,
     "metadata": {},
     "output_type": "execute_result"
    }
   ],
   "source": [
    "# binance.con.fetch_ticker('ARB/USDT')"
   ]
  }
 ],
 "metadata": {
  "kernelspec": {
   "display_name": "base",
   "language": "python",
   "name": "python3"
  },
  "language_info": {
   "codemirror_mode": {
    "name": "ipython",
    "version": 3
   },
   "file_extension": ".py",
   "mimetype": "text/x-python",
   "name": "python",
   "nbconvert_exporter": "python",
   "pygments_lexer": "ipython3",
   "version": "3.12.2"
  },
  "orig_nbformat": 4
 },
 "nbformat": 4,
 "nbformat_minor": 2
}
