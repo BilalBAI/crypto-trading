{
 "cells": [
  {
   "cell_type": "markdown",
   "metadata": {},
   "source": [
    "# Binance Balance"
   ]
  },
  {
   "cell_type": "code",
   "execution_count": 7,
   "metadata": {},
   "outputs": [],
   "source": [
    "import pandas as pd\n",
    "pd.set_option('display.max_columns', 10)"
   ]
  },
  {
   "cell_type": "code",
   "execution_count": 8,
   "metadata": {},
   "outputs": [],
   "source": [
    "from crypto_trading.clients import BinanceClient\n",
    "\n",
    "binance = BinanceClient()\n",
    "binance.con_trading_login()\n",
    "binance.fetch_balance()"
   ]
  },
  {
   "cell_type": "code",
   "execution_count": 9,
   "metadata": {},
   "outputs": [
    {
     "name": "stdout",
     "output_type": "stream",
     "text": [
      "GMV: 1,845.68\n",
      "NMV: 18.80\n",
      "\n",
      "Total Balance: 1,233.91\n",
      "Total Liability: -913.44\n",
      "Net Liq: 320.47\n",
      "PNL: 12.47\n",
      "ML: 1.35\n"
     ]
    }
   ],
   "source": [
    "# positions = [\n",
    "#     {'symbol':'ETH', 'delta': 0.2629368},\n",
    "#     {'symbol':'BTC', 'delta': -0.00598166},\n",
    "#     {'symbol':'SOL', 'delta': -2.0000124},\n",
    "#     {'symbol':'USDT', 'delta': 199.4882},\n",
    "#     {'symbol':'USDT', 'delta': -43.5959}\n",
    "\n",
    "# ]\n",
    "invest = 308\n",
    "binance.rms(binance.positions,invest)"
   ]
  },
  {
   "cell_type": "code",
   "execution_count": 10,
   "metadata": {},
   "outputs": [
    {
     "data": {
      "text/html": [
       "<div>\n",
       "<style scoped>\n",
       "    .dataframe tbody tr th:only-of-type {\n",
       "        vertical-align: middle;\n",
       "    }\n",
       "\n",
       "    .dataframe tbody tr th {\n",
       "        vertical-align: top;\n",
       "    }\n",
       "\n",
       "    .dataframe thead th {\n",
       "        text-align: right;\n",
       "    }\n",
       "</style>\n",
       "<table border=\"1\" class=\"dataframe\">\n",
       "  <thead>\n",
       "    <tr style=\"text-align: right;\">\n",
       "      <th></th>\n",
       "      <th>symbol</th>\n",
       "      <th>free</th>\n",
       "      <th>locked</th>\n",
       "      <th>borrowed</th>\n",
       "      <th>interest</th>\n",
       "      <th>delta</th>\n",
       "      <th>price</th>\n",
       "      <th>mv</th>\n",
       "    </tr>\n",
       "  </thead>\n",
       "  <tbody>\n",
       "    <tr>\n",
       "      <th>0</th>\n",
       "      <td>BTC</td>\n",
       "      <td>0</td>\n",
       "      <td>0</td>\n",
       "      <td>0.00598</td>\n",
       "      <td>0.00000202</td>\n",
       "      <td>-0.005982</td>\n",
       "      <td>70773.2900</td>\n",
       "      <td>-423.367236</td>\n",
       "    </tr>\n",
       "    <tr>\n",
       "      <th>1</th>\n",
       "      <td>ARB</td>\n",
       "      <td>0</td>\n",
       "      <td>0</td>\n",
       "      <td>100</td>\n",
       "      <td>0.00225004</td>\n",
       "      <td>-100.002250</td>\n",
       "      <td>1.4583</td>\n",
       "      <td>-145.833281</td>\n",
       "    </tr>\n",
       "    <tr>\n",
       "      <th>2</th>\n",
       "      <td>SOL</td>\n",
       "      <td>0</td>\n",
       "      <td>0</td>\n",
       "      <td>2.0000124</td>\n",
       "      <td>0.00046315</td>\n",
       "      <td>-2.000476</td>\n",
       "      <td>172.0800</td>\n",
       "      <td>-344.241833</td>\n",
       "    </tr>\n",
       "    <tr>\n",
       "      <th>3</th>\n",
       "      <td>ETH</td>\n",
       "      <td>0.2629368</td>\n",
       "      <td>0</td>\n",
       "      <td>0</td>\n",
       "      <td>0</td>\n",
       "      <td>0.262937</td>\n",
       "      <td>3545.5000</td>\n",
       "      <td>932.242424</td>\n",
       "    </tr>\n",
       "  </tbody>\n",
       "</table>\n",
       "</div>"
      ],
      "text/plain": [
       "  symbol       free locked   borrowed    interest       delta       price  \\\n",
       "0    BTC          0      0    0.00598  0.00000202   -0.005982  70773.2900   \n",
       "1    ARB          0      0        100  0.00225004 -100.002250      1.4583   \n",
       "2    SOL          0      0  2.0000124  0.00046315   -2.000476    172.0800   \n",
       "3    ETH  0.2629368      0          0           0    0.262937   3545.5000   \n",
       "\n",
       "           mv  \n",
       "0 -423.367236  \n",
       "1 -145.833281  \n",
       "2 -344.241833  \n",
       "3  932.242424  "
      ]
     },
     "execution_count": 10,
     "metadata": {},
     "output_type": "execute_result"
    }
   ],
   "source": [
    "binance.df_risk_exp"
   ]
  },
  {
   "cell_type": "code",
   "execution_count": 11,
   "metadata": {},
   "outputs": [
    {
     "data": {
      "text/html": [
       "<div>\n",
       "<style scoped>\n",
       "    .dataframe tbody tr th:only-of-type {\n",
       "        vertical-align: middle;\n",
       "    }\n",
       "\n",
       "    .dataframe tbody tr th {\n",
       "        vertical-align: top;\n",
       "    }\n",
       "\n",
       "    .dataframe thead th {\n",
       "        text-align: right;\n",
       "    }\n",
       "</style>\n",
       "<table border=\"1\" class=\"dataframe\">\n",
       "  <thead>\n",
       "    <tr style=\"text-align: right;\">\n",
       "      <th></th>\n",
       "      <th>symbol</th>\n",
       "      <th>free</th>\n",
       "      <th>locked</th>\n",
       "      <th>borrowed</th>\n",
       "      <th>interest</th>\n",
       "      <th>delta</th>\n",
       "      <th>price</th>\n",
       "      <th>mv</th>\n",
       "    </tr>\n",
       "  </thead>\n",
       "  <tbody>\n",
       "    <tr>\n",
       "      <th>4</th>\n",
       "      <td>USDT</td>\n",
       "      <td>345.34220787</td>\n",
       "      <td>0</td>\n",
       "      <td>43.59593705</td>\n",
       "      <td>0.07677488</td>\n",
       "      <td>301.669496</td>\n",
       "      <td>1.0</td>\n",
       "      <td>301.669496</td>\n",
       "    </tr>\n",
       "  </tbody>\n",
       "</table>\n",
       "</div>"
      ],
      "text/plain": [
       "  symbol          free locked     borrowed    interest       delta  price  \\\n",
       "4   USDT  345.34220787      0  43.59593705  0.07677488  301.669496    1.0   \n",
       "\n",
       "           mv  \n",
       "4  301.669496  "
      ]
     },
     "execution_count": 11,
     "metadata": {},
     "output_type": "execute_result"
    }
   ],
   "source": [
    "binance.df_cash"
   ]
  },
  {
   "cell_type": "code",
   "execution_count": 12,
   "metadata": {},
   "outputs": [
    {
     "data": {
      "text/plain": [
       "0.302717011132"
      ]
     },
     "execution_count": 12,
     "metadata": {},
     "output_type": "execute_result"
    }
   ],
   "source": [
    "(binance.df_risk_exp.price * binance.df_risk_exp.interest.astype(float)).sum() + binance.df_cash.interest.astype(float).sum()"
   ]
  }
 ],
 "metadata": {
  "kernelspec": {
   "display_name": "base",
   "language": "python",
   "name": "python3"
  },
  "language_info": {
   "codemirror_mode": {
    "name": "ipython",
    "version": 3
   },
   "file_extension": ".py",
   "mimetype": "text/x-python",
   "name": "python",
   "nbconvert_exporter": "python",
   "pygments_lexer": "ipython3",
   "version": "3.12.2"
  },
  "orig_nbformat": 4
 },
 "nbformat": 4,
 "nbformat_minor": 2
}
