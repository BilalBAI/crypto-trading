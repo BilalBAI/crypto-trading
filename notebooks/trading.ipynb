{
 "cells": [
  {
   "cell_type": "markdown",
   "metadata": {},
   "source": [
    "# Binance Balance"
   ]
  },
  {
   "cell_type": "code",
   "execution_count": 1,
   "metadata": {},
   "outputs": [],
   "source": [
    "import pandas as pd\n",
    "pd.set_option('display.max_columns', 50)"
   ]
  },
  {
   "cell_type": "code",
   "execution_count": 2,
   "metadata": {},
   "outputs": [
    {
     "name": "stderr",
     "output_type": "stream",
     "text": [
      "Python-dotenv could not parse statement starting at line 3\n"
     ]
    }
   ],
   "source": [
    "from crypto_trading.clients import BinanceClient\n",
    "\n",
    "binance = BinanceClient()\n",
    "binance.con_trading_login()\n",
    "binance.fetch_balance()\n",
    "\n",
    "invest = 307.6"
   ]
  },
  {
   "cell_type": "code",
   "execution_count": 3,
   "metadata": {},
   "outputs": [
    {
     "name": "stdout",
     "output_type": "stream",
     "text": [
      "GMV: 1,793.72\n",
      "NMV: 17.52\n",
      "Total PNL: 11.54\n",
      "24hrs PNL: 4.056350050820072\n",
      "\n",
      "Total Balance: 1,207.24\n",
      "Total Liability: -888.10\n",
      "Net Liq: 319.14\n",
      "ML: 1.36\n",
      "Interest: 0.4632263583149999\n"
     ]
    },
    {
     "data": {
      "text/html": [
       "<div>\n",
       "<style scoped>\n",
       "    .dataframe tbody tr th:only-of-type {\n",
       "        vertical-align: middle;\n",
       "    }\n",
       "\n",
       "    .dataframe tbody tr th {\n",
       "        vertical-align: top;\n",
       "    }\n",
       "\n",
       "    .dataframe thead th {\n",
       "        text-align: right;\n",
       "    }\n",
       "</style>\n",
       "<table border=\"1\" class=\"dataframe\">\n",
       "  <thead>\n",
       "    <tr style=\"text-align: right;\">\n",
       "      <th></th>\n",
       "      <th>symbol</th>\n",
       "      <th>delta</th>\n",
       "      <th>last</th>\n",
       "      <th>previousClose</th>\n",
       "      <th>percentage</th>\n",
       "      <th>mv</th>\n",
       "      <th>24hrsPNL</th>\n",
       "    </tr>\n",
       "  </thead>\n",
       "  <tbody>\n",
       "    <tr>\n",
       "      <th>0</th>\n",
       "      <td>BTC</td>\n",
       "      <td>-0.005982</td>\n",
       "      <td>69393.2600</td>\n",
       "      <td>69878.8200</td>\n",
       "      <td>-0.695</td>\n",
       "      <td>-415.137545</td>\n",
       "      <td>2.904809</td>\n",
       "    </tr>\n",
       "    <tr>\n",
       "      <th>1</th>\n",
       "      <td>ARB</td>\n",
       "      <td>-100.014427</td>\n",
       "      <td>1.3741</td>\n",
       "      <td>1.4249</td>\n",
       "      <td>-3.572</td>\n",
       "      <td>-137.429824</td>\n",
       "      <td>5.080733</td>\n",
       "    </tr>\n",
       "    <tr>\n",
       "      <th>2</th>\n",
       "      <td>SOL</td>\n",
       "      <td>-2.000934</td>\n",
       "      <td>167.6900</td>\n",
       "      <td>172.5700</td>\n",
       "      <td>-2.817</td>\n",
       "      <td>-335.536570</td>\n",
       "      <td>9.764556</td>\n",
       "    </tr>\n",
       "    <tr>\n",
       "      <th>3</th>\n",
       "      <td>ETH</td>\n",
       "      <td>0.262937</td>\n",
       "      <td>3444.2500</td>\n",
       "      <td>3496.3300</td>\n",
       "      <td>-1.489</td>\n",
       "      <td>905.620073</td>\n",
       "      <td>-13.693749</td>\n",
       "    </tr>\n",
       "  </tbody>\n",
       "</table>\n",
       "</div>"
      ],
      "text/plain": [
       "  symbol       delta        last  previousClose  percentage          mv  \\\n",
       "0    BTC   -0.005982  69393.2600     69878.8200      -0.695 -415.137545   \n",
       "1    ARB -100.014427      1.3741         1.4249      -3.572 -137.429824   \n",
       "2    SOL   -2.000934    167.6900       172.5700      -2.817 -335.536570   \n",
       "3    ETH    0.262937   3444.2500      3496.3300      -1.489  905.620073   \n",
       "\n",
       "    24hrsPNL  \n",
       "0   2.904809  \n",
       "1   5.080733  \n",
       "2   9.764556  \n",
       "3 -13.693749  "
      ]
     },
     "execution_count": 3,
     "metadata": {},
     "output_type": "execute_result"
    }
   ],
   "source": [
    "binance.rms(binance.positions,invest)\n",
    "binance.df_risk_exp[['symbol','delta','last','previousClose','percentage','mv','24hrsPNL']]"
   ]
  },
  {
   "cell_type": "code",
   "execution_count": 4,
   "metadata": {},
   "outputs": [
    {
     "data": {
      "text/html": [
       "<div>\n",
       "<style scoped>\n",
       "    .dataframe tbody tr th:only-of-type {\n",
       "        vertical-align: middle;\n",
       "    }\n",
       "\n",
       "    .dataframe tbody tr th {\n",
       "        vertical-align: top;\n",
       "    }\n",
       "\n",
       "    .dataframe thead th {\n",
       "        text-align: right;\n",
       "    }\n",
       "</style>\n",
       "<table border=\"1\" class=\"dataframe\">\n",
       "  <thead>\n",
       "    <tr style=\"text-align: right;\">\n",
       "      <th></th>\n",
       "      <th>symbol</th>\n",
       "      <th>free</th>\n",
       "      <th>locked</th>\n",
       "      <th>borrowed</th>\n",
       "      <th>interest</th>\n",
       "      <th>delta</th>\n",
       "      <th>last</th>\n",
       "      <th>previousClose</th>\n",
       "      <th>percentage</th>\n",
       "      <th>mv</th>\n",
       "      <th>24hrsPNL</th>\n",
       "    </tr>\n",
       "  </thead>\n",
       "  <tbody>\n",
       "    <tr>\n",
       "      <th>0</th>\n",
       "      <td>BTC</td>\n",
       "      <td>0.000000</td>\n",
       "      <td>0.0</td>\n",
       "      <td>0.005980</td>\n",
       "      <td>0.000002</td>\n",
       "      <td>-0.005982</td>\n",
       "      <td>69393.2600</td>\n",
       "      <td>69878.8200</td>\n",
       "      <td>-0.695</td>\n",
       "      <td>-415.137545</td>\n",
       "      <td>2.904809</td>\n",
       "    </tr>\n",
       "    <tr>\n",
       "      <th>1</th>\n",
       "      <td>ARB</td>\n",
       "      <td>0.000000</td>\n",
       "      <td>0.0</td>\n",
       "      <td>100.000000</td>\n",
       "      <td>0.014427</td>\n",
       "      <td>-100.014427</td>\n",
       "      <td>1.3741</td>\n",
       "      <td>1.4249</td>\n",
       "      <td>-3.572</td>\n",
       "      <td>-137.429824</td>\n",
       "      <td>5.080733</td>\n",
       "    </tr>\n",
       "    <tr>\n",
       "      <th>2</th>\n",
       "      <td>SOL</td>\n",
       "      <td>0.000000</td>\n",
       "      <td>0.0</td>\n",
       "      <td>2.000012</td>\n",
       "      <td>0.000921</td>\n",
       "      <td>-2.000934</td>\n",
       "      <td>167.6900</td>\n",
       "      <td>172.5700</td>\n",
       "      <td>-2.817</td>\n",
       "      <td>-335.536570</td>\n",
       "      <td>9.764556</td>\n",
       "    </tr>\n",
       "    <tr>\n",
       "      <th>3</th>\n",
       "      <td>ETH</td>\n",
       "      <td>0.262937</td>\n",
       "      <td>0.0</td>\n",
       "      <td>0.000000</td>\n",
       "      <td>0.000000</td>\n",
       "      <td>0.262937</td>\n",
       "      <td>3444.2500</td>\n",
       "      <td>3496.3300</td>\n",
       "      <td>-1.489</td>\n",
       "      <td>905.620073</td>\n",
       "      <td>-13.693749</td>\n",
       "    </tr>\n",
       "  </tbody>\n",
       "</table>\n",
       "</div>"
      ],
      "text/plain": [
       "  symbol      free  locked    borrowed  interest       delta        last  \\\n",
       "0    BTC  0.000000     0.0    0.005980  0.000002   -0.005982  69393.2600   \n",
       "1    ARB  0.000000     0.0  100.000000  0.014427 -100.014427      1.3741   \n",
       "2    SOL  0.000000     0.0    2.000012  0.000921   -2.000934    167.6900   \n",
       "3    ETH  0.262937     0.0    0.000000  0.000000    0.262937   3444.2500   \n",
       "\n",
       "   previousClose  percentage          mv   24hrsPNL  \n",
       "0     69878.8200      -0.695 -415.137545   2.904809  \n",
       "1         1.4249      -3.572 -137.429824   5.080733  \n",
       "2       172.5700      -2.817 -335.536570   9.764556  \n",
       "3      3496.3300      -1.489  905.620073 -13.693749  "
      ]
     },
     "execution_count": 4,
     "metadata": {},
     "output_type": "execute_result"
    }
   ],
   "source": [
    "binance.df_risk_exp"
   ]
  },
  {
   "cell_type": "code",
   "execution_count": 5,
   "metadata": {},
   "outputs": [
    {
     "data": {
      "text/html": [
       "<div>\n",
       "<style scoped>\n",
       "    .dataframe tbody tr th:only-of-type {\n",
       "        vertical-align: middle;\n",
       "    }\n",
       "\n",
       "    .dataframe tbody tr th {\n",
       "        vertical-align: top;\n",
       "    }\n",
       "\n",
       "    .dataframe thead th {\n",
       "        text-align: right;\n",
       "    }\n",
       "</style>\n",
       "<table border=\"1\" class=\"dataframe\">\n",
       "  <thead>\n",
       "    <tr style=\"text-align: right;\">\n",
       "      <th></th>\n",
       "      <th>symbol</th>\n",
       "      <th>free</th>\n",
       "      <th>locked</th>\n",
       "      <th>borrowed</th>\n",
       "      <th>interest</th>\n",
       "      <th>delta</th>\n",
       "    </tr>\n",
       "  </thead>\n",
       "  <tbody>\n",
       "    <tr>\n",
       "      <th>4</th>\n",
       "      <td>USDT</td>\n",
       "      <td>243.282208</td>\n",
       "      <td>102.06</td>\n",
       "      <td>43.595937</td>\n",
       "      <td>0.123061</td>\n",
       "      <td>301.62321</td>\n",
       "    </tr>\n",
       "  </tbody>\n",
       "</table>\n",
       "</div>"
      ],
      "text/plain": [
       "  symbol        free  locked   borrowed  interest      delta\n",
       "4   USDT  243.282208  102.06  43.595937  0.123061  301.62321"
      ]
     },
     "execution_count": 5,
     "metadata": {},
     "output_type": "execute_result"
    }
   ],
   "source": [
    "binance.df_cash"
   ]
  },
  {
   "cell_type": "code",
   "execution_count": 6,
   "metadata": {},
   "outputs": [],
   "source": [
    "# binance.con.fetch_ticker('ARB/USDT')"
   ]
  }
 ],
 "metadata": {
  "kernelspec": {
   "display_name": "base",
   "language": "python",
   "name": "python3"
  },
  "language_info": {
   "codemirror_mode": {
    "name": "ipython",
    "version": 3
   },
   "file_extension": ".py",
   "mimetype": "text/x-python",
   "name": "python",
   "nbconvert_exporter": "python",
   "pygments_lexer": "ipython3",
   "version": "3.12.2"
  },
  "orig_nbformat": 4
 },
 "nbformat": 4,
 "nbformat_minor": 2
}
