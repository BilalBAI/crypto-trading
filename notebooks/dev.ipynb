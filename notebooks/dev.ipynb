{
 "cells": [
  {
   "cell_type": "code",
   "execution_count": 17,
   "metadata": {},
   "outputs": [],
   "source": [
    "wss='wss://patient-green-putty.quiknode.pro/c5a9ecc0ebed8eb70f75d3e7e8b3737e2fcabe06/'\n"
   ]
  },
  {
   "cell_type": "code",
   "execution_count": 18,
   "metadata": {},
   "outputs": [
    {
     "name": "stdout",
     "output_type": "stream",
     "text": [
      "SAVE BUT DO NOT SHARE THIS: 0x8f01d4f3c33a5933d5a9c6d8e6b722d0908966e59a2d268e0855faffd33674c6\n",
      "Address: 0xfe35Dadaf1801021e59E3eb5189741e8E222C985\n"
     ]
    }
   ],
   "source": [
    "from eth_account import Account\n",
    "import secrets\n",
    "priv = secrets.token_hex(32)\n",
    "private_key = \"0x\" + priv\n",
    "print (\"SAVE BUT DO NOT SHARE THIS:\", private_key)\n",
    "acct = Account.from_key(private_key)\n",
    "print(\"Address:\", acct.address)"
   ]
  },
  {
   "cell_type": "code",
   "execution_count": 3,
   "metadata": {},
   "outputs": [],
   "source": [
    "from web3 import Web3\n",
    "web3 = Web3(Web3.WebsocketProvider(wss))"
   ]
  },
  {
   "cell_type": "code",
   "execution_count": 21,
   "metadata": {},
   "outputs": [],
   "source": [
    "for i in range(100):\n",
    "    priv = secrets.token_hex(32)\n",
    "    private_key = \"0x\" + priv\n",
    "    acct = Account.from_key(private_key)\n",
    "    balance = web3.eth.get_balance(acct.address)\n",
    "    if balance!=0:\n",
    "        print (\"SAVE BUT DO NOT SHARE THIS:\", private_key)\n",
    "        print(\"Address:\", acct.address)\n",
    "        print(\"Balance:\", balance)\n",
    "        print('############')\n"
   ]
  }
 ],
 "metadata": {
  "kernelspec": {
   "display_name": "crypto-trading",
   "language": "python",
   "name": "python3"
  },
  "language_info": {
   "codemirror_mode": {
    "name": "ipython",
    "version": 3
   },
   "file_extension": ".py",
   "mimetype": "text/x-python",
   "name": "python",
   "nbconvert_exporter": "python",
   "pygments_lexer": "ipython3",
   "version": "3.12.2"
  }
 },
 "nbformat": 4,
 "nbformat_minor": 2
}
