{
 "cells": [
  {
   "cell_type": "code",
   "execution_count": 1,
   "metadata": {},
   "outputs": [
    {
     "name": "stdout",
     "output_type": "stream",
     "text": [
      "True\n"
     ]
    }
   ],
   "source": [
    "from crypto_trading.clients import EthClient\n",
    "import pandas as pd\n",
    "ecl = EthClient()"
   ]
  },
  {
   "cell_type": "code",
   "execution_count": 24,
   "metadata": {},
   "outputs": [
    {
     "data": {
      "text/html": [
       "<div>\n",
       "<style scoped>\n",
       "    .dataframe tbody tr th:only-of-type {\n",
       "        vertical-align: middle;\n",
       "    }\n",
       "\n",
       "    .dataframe tbody tr th {\n",
       "        vertical-align: top;\n",
       "    }\n",
       "\n",
       "    .dataframe thead th {\n",
       "        text-align: right;\n",
       "    }\n",
       "</style>\n",
       "<table border=\"1\" class=\"dataframe\">\n",
       "  <thead>\n",
       "    <tr style=\"text-align: right;\">\n",
       "      <th></th>\n",
       "      <th>blockNumber</th>\n",
       "      <th>chainId</th>\n",
       "      <th>from</th>\n",
       "      <th>to</th>\n",
       "      <th>value</th>\n",
       "      <th>gas</th>\n",
       "      <th>gasPrice</th>\n",
       "      <th>input</th>\n",
       "      <th>maxFeePerGas</th>\n",
       "      <th>maxPriorityFeePerGas</th>\n",
       "      <th>nonce</th>\n",
       "    </tr>\n",
       "  </thead>\n",
       "  <tbody>\n",
       "    <tr>\n",
       "      <th>87</th>\n",
       "      <td>19757545</td>\n",
       "      <td>1.0</td>\n",
       "      <td>0x2b5aa53F0F9A56CA6B5650eeae96B0a0eDAC797c</td>\n",
       "      <td>0xB2E29fB5aDc2A5986f6B3A82E9c2Ddd5e75C1bdE</td>\n",
       "      <td>10.0</td>\n",
       "      <td>21000</td>\n",
       "      <td>6175031770</td>\n",
       "      <td>b''</td>\n",
       "      <td>6.846592e+09</td>\n",
       "      <td>2.000000e+09</td>\n",
       "      <td>3</td>\n",
       "    </tr>\n",
       "    <tr>\n",
       "      <th>117</th>\n",
       "      <td>19757545</td>\n",
       "      <td>1.0</td>\n",
       "      <td>0xE4Cde89434732aE46d3cC124fC0215D523F08b40</td>\n",
       "      <td>0x111111125421cA6dc452d289314280a0f8842A65</td>\n",
       "      <td>7.03</td>\n",
       "      <td>277935</td>\n",
       "      <td>4180031770</td>\n",
       "      <td>b\"\\x07\\xed#y\\x00\\x00\\x00\\x00\\x00\\x00\\x00\\x00\\x...</td>\n",
       "      <td>5.243062e+09</td>\n",
       "      <td>5.000000e+06</td>\n",
       "      <td>152</td>\n",
       "    </tr>\n",
       "    <tr>\n",
       "      <th>151</th>\n",
       "      <td>19757545</td>\n",
       "      <td>1.0</td>\n",
       "      <td>0x6081258689a75d253d87cE902A8de3887239Fe80</td>\n",
       "      <td>0x4c3da3Fa518107dEb6ef7f1dDEeC7767286B8aDf</td>\n",
       "      <td>1.499579</td>\n",
       "      <td>21000</td>\n",
       "      <td>4682988353</td>\n",
       "      <td>b''</td>\n",
       "      <td>5.744588e+09</td>\n",
       "      <td>5.079566e+08</td>\n",
       "      <td>1134118</td>\n",
       "    </tr>\n",
       "    <tr>\n",
       "      <th>156</th>\n",
       "      <td>19757545</td>\n",
       "      <td>1.0</td>\n",
       "      <td>0x9696f59E4d72E237BE84fFD425DCaD154Bf96976</td>\n",
       "      <td>0xbFB5eE6E8Dde4a2c1f21D49849334c6858E484aA</td>\n",
       "      <td>6.166523</td>\n",
       "      <td>207128</td>\n",
       "      <td>6175031770</td>\n",
       "      <td>b''</td>\n",
       "      <td>1.020000e+11</td>\n",
       "      <td>2.000000e+09</td>\n",
       "      <td>6280459</td>\n",
       "    </tr>\n",
       "    <tr>\n",
       "      <th>165</th>\n",
       "      <td>19757545</td>\n",
       "      <td>1.0</td>\n",
       "      <td>0x1AaD4a6d12205041F14b740Ab3346a077192a66D</td>\n",
       "      <td>0x4Dbd4fc535Ac27206064B68FfCf827b0A60BAB3f</td>\n",
       "      <td>20.0</td>\n",
       "      <td>97810</td>\n",
       "      <td>4195537836</td>\n",
       "      <td>b'C\\x93p\\xb1'</td>\n",
       "      <td>6.084765e+09</td>\n",
       "      <td>2.050607e+07</td>\n",
       "      <td>30</td>\n",
       "    </tr>\n",
       "  </tbody>\n",
       "</table>\n",
       "</div>"
      ],
      "text/plain": [
       "     blockNumber  chainId                                        from  \\\n",
       "87      19757545      1.0  0x2b5aa53F0F9A56CA6B5650eeae96B0a0eDAC797c   \n",
       "117     19757545      1.0  0xE4Cde89434732aE46d3cC124fC0215D523F08b40   \n",
       "151     19757545      1.0  0x6081258689a75d253d87cE902A8de3887239Fe80   \n",
       "156     19757545      1.0  0x9696f59E4d72E237BE84fFD425DCaD154Bf96976   \n",
       "165     19757545      1.0  0x1AaD4a6d12205041F14b740Ab3346a077192a66D   \n",
       "\n",
       "                                             to     value     gas    gasPrice  \\\n",
       "87   0xB2E29fB5aDc2A5986f6B3A82E9c2Ddd5e75C1bdE      10.0   21000  6175031770   \n",
       "117  0x111111125421cA6dc452d289314280a0f8842A65      7.03  277935  4180031770   \n",
       "151  0x4c3da3Fa518107dEb6ef7f1dDEeC7767286B8aDf  1.499579   21000  4682988353   \n",
       "156  0xbFB5eE6E8Dde4a2c1f21D49849334c6858E484aA  6.166523  207128  6175031770   \n",
       "165  0x4Dbd4fc535Ac27206064B68FfCf827b0A60BAB3f      20.0   97810  4195537836   \n",
       "\n",
       "                                                 input  maxFeePerGas  \\\n",
       "87                                                 b''  6.846592e+09   \n",
       "117  b\"\\x07\\xed#y\\x00\\x00\\x00\\x00\\x00\\x00\\x00\\x00\\x...  5.243062e+09   \n",
       "151                                                b''  5.744588e+09   \n",
       "156                                                b''  1.020000e+11   \n",
       "165                                      b'C\\x93p\\xb1'  6.084765e+09   \n",
       "\n",
       "     maxPriorityFeePerGas    nonce  \n",
       "87           2.000000e+09        3  \n",
       "117          5.000000e+06      152  \n",
       "151          5.079566e+08  1134118  \n",
       "156          2.000000e+09  6280459  \n",
       "165          2.050607e+07       30  "
      ]
     },
     "execution_count": 24,
     "metadata": {},
     "output_type": "execute_result"
    }
   ],
   "source": [
    "pending_block=ecl.web3.eth.get_block(block_identifier='pending', full_transactions=True)\n",
    "df=pd.DataFrame(pending_block['transactions'])\n",
    "df.value = df.value/1e18\n",
    "df.query('value>1')[['blockNumber','chainId','from','to','value','gas','gasPrice','input','maxFeePerGas', 'maxPriorityFeePerGas',\n",
    "       'nonce']]"
   ]
  },
  {
   "cell_type": "markdown",
   "metadata": {},
   "source": []
  },
  {
   "cell_type": "code",
   "execution_count": 23,
   "metadata": {},
   "outputs": [
    {
     "data": {
      "text/plain": [
       "Index(['accessList', 'blockHash', 'blockNumber', 'chainId', 'from', 'gas',\n",
       "       'gasPrice', 'hash', 'input', 'maxFeePerGas', 'maxPriorityFeePerGas',\n",
       "       'nonce', 'r', 's', 'to', 'transactionIndex', 'type', 'v', 'value',\n",
       "       'yParity'],\n",
       "      dtype='object')"
      ]
     },
     "execution_count": 23,
     "metadata": {},
     "output_type": "execute_result"
    }
   ],
   "source": [
    "df.columns\n"
   ]
  }
 ],
 "metadata": {
  "kernelspec": {
   "display_name": "crypto-trading",
   "language": "python",
   "name": "python3"
  },
  "language_info": {
   "codemirror_mode": {
    "name": "ipython",
    "version": 3
   },
   "file_extension": ".py",
   "mimetype": "text/x-python",
   "name": "python",
   "nbconvert_exporter": "python",
   "pygments_lexer": "ipython3",
   "version": "3.12.2"
  }
 },
 "nbformat": 4,
 "nbformat_minor": 2
}
