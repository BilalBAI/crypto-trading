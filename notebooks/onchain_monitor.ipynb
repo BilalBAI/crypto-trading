{
 "cells": [
  {
   "cell_type": "code",
   "execution_count": 1,
   "metadata": {},
   "outputs": [
    {
     "name": "stdout",
     "output_type": "stream",
     "text": [
      "True\n"
     ]
    }
   ],
   "source": [
    "from crypto_trading.clients import EthClient\n",
    "import pandas as pd\n",
    "\n",
    "import json\n",
    "\n",
    "# Load name_tags and lable_tags\n",
    "with open('combinedAllLabels.json', 'r') as file:\n",
    "    data = json.load(file)\n",
    "name_tags = {k:data[k]['name'] for k in data.keys()}\n",
    "lable_tags = {k:data[k]['labels'] for k in data.keys()}\n",
    "\n",
    "ecl = EthClient()"
   ]
  },
  {
   "cell_type": "code",
   "execution_count": 2,
   "metadata": {},
   "outputs": [],
   "source": [
    "pending_block=ecl.web3.eth.get_block(block_identifier='pending', full_transactions=True)\n",
    "df=pd.DataFrame(pending_block['transactions'])\n",
    "\n",
    "# Tag the addresses\n",
    "df['from_named'] = df['from'].str.lower().map(name_tags).fillna(df['from'])\n",
    "df['from_labled'] = df['from'].str.lower().map(lable_tags).fillna(df['from'])\n",
    "\n",
    "df['to_named'] = df['to'].str.lower().map(name_tags).fillna(df['to'])\n",
    "df['to_labled'] = df['to'].str.lower().map(lable_tags).fillna(df['to'])\n",
    "###\n",
    "\n",
    "# Covert wei to eth\n",
    "df.value = df.value/1e18\n"
   ]
  },
  {
   "cell_type": "code",
   "execution_count": 3,
   "metadata": {},
   "outputs": [
    {
     "data": {
      "text/html": [
       "<div>\n",
       "<style scoped>\n",
       "    .dataframe tbody tr th:only-of-type {\n",
       "        vertical-align: middle;\n",
       "    }\n",
       "\n",
       "    .dataframe tbody tr th {\n",
       "        vertical-align: top;\n",
       "    }\n",
       "\n",
       "    .dataframe thead th {\n",
       "        text-align: right;\n",
       "    }\n",
       "</style>\n",
       "<table border=\"1\" class=\"dataframe\">\n",
       "  <thead>\n",
       "    <tr style=\"text-align: right;\">\n",
       "      <th></th>\n",
       "      <th>blockNumber</th>\n",
       "      <th>chainId</th>\n",
       "      <th>from_named</th>\n",
       "      <th>to_named</th>\n",
       "      <th>value</th>\n",
       "      <th>gas</th>\n",
       "      <th>gasPrice</th>\n",
       "      <th>input</th>\n",
       "      <th>maxFeePerGas</th>\n",
       "      <th>maxPriorityFeePerGas</th>\n",
       "      <th>nonce</th>\n",
       "    </tr>\n",
       "  </thead>\n",
       "  <tbody>\n",
       "    <tr>\n",
       "      <th>118</th>\n",
       "      <td>19771332</td>\n",
       "      <td>1.0</td>\n",
       "      <td>Kraken 4</td>\n",
       "      <td>0x140808f2FaD35C68e56B45512f7f2a7f18A3b7Da</td>\n",
       "      <td>2.189913</td>\n",
       "      <td>21000</td>\n",
       "      <td>8096552358</td>\n",
       "      <td>b''</td>\n",
       "      <td>2.709811e+10</td>\n",
       "      <td>2.000000e+09</td>\n",
       "      <td>3903509</td>\n",
       "    </tr>\n",
       "  </tbody>\n",
       "</table>\n",
       "</div>"
      ],
      "text/plain": [
       "     blockNumber  chainId from_named  \\\n",
       "118     19771332      1.0   Kraken 4   \n",
       "\n",
       "                                       to_named     value    gas    gasPrice  \\\n",
       "118  0x140808f2FaD35C68e56B45512f7f2a7f18A3b7Da  2.189913  21000  8096552358   \n",
       "\n",
       "    input  maxFeePerGas  maxPriorityFeePerGas    nonce  \n",
       "118   b''  2.709811e+10          2.000000e+09  3903509  "
      ]
     },
     "execution_count": 3,
     "metadata": {},
     "output_type": "execute_result"
    }
   ],
   "source": [
    "df1=df.query('value>1')[['blockNumber','chainId','from_named','to_named','value','gas','gasPrice','input','maxFeePerGas', 'maxPriorityFeePerGas',\n",
    "       'nonce']]\n",
    "df1"
   ]
  }
 ],
 "metadata": {
  "kernelspec": {
   "display_name": "crypto-trading",
   "language": "python",
   "name": "python3"
  },
  "language_info": {
   "codemirror_mode": {
    "name": "ipython",
    "version": 3
   },
   "file_extension": ".py",
   "mimetype": "text/x-python",
   "name": "python",
   "nbconvert_exporter": "python",
   "pygments_lexer": "ipython3",
   "version": "3.12.2"
  }
 },
 "nbformat": 4,
 "nbformat_minor": 2
}
